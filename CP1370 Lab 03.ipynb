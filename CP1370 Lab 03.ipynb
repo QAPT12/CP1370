{
 "cells": [
  {
   "cell_type": "markdown",
   "metadata": {
    "application/vnd.databricks.v1+cell": {
     "cellMetadata": {},
     "inputWidgets": {},
     "nuid": "f529677e-c570-41e6-8211-13e897a66e1a",
     "showTitle": false,
     "tableResultSettingsMap": {},
     "title": ""
    }
   },
   "source": [
    "3. Load the movies.json file from DBFS into a dataframe and display the first 10 records and print the schema for the dataframe. ( 2 marks)"
   ]
  },
  {
   "cell_type": "code",
   "execution_count": 0,
   "metadata": {
    "application/vnd.databricks.v1+cell": {
     "cellMetadata": {
      "byteLimit": 2048000,
      "rowLimit": 10000
     },
     "inputWidgets": {},
     "nuid": "57aee831-6b9d-4a66-be64-f498a685fb14",
     "showTitle": false,
     "tableResultSettingsMap": {},
     "title": ""
    }
   },
   "outputs": [
    {
     "output_type": "stream",
     "name": "stdout",
     "output_type": "stream",
     "text": [
      "root\n |-- actor_name: string (nullable = true)\n |-- movie_title: string (nullable = true)\n |-- produced_year: integer (nullable = true)\n\n+-----------------+---------------------------+-------------+\n|actor_name       |movie_title                |produced_year|\n+-----------------+---------------------------+-------------+\n|McClure, Marc (I)|Coach Carter               |2005         |\n|McClure, Marc (I)|Superman II                |1980         |\n|McClure, Marc (I)|Apollo 13                  |1995         |\n|McClure, Marc (I)|Superman                   |1978         |\n|McClure, Marc (I)|Back to the Future         |1985         |\n|McClure, Marc (I)|Back to the Future Part III|1990         |\n|Cooper, Chris (I)|Me, Myself & Irene         |2000         |\n|Cooper, Chris (I)|October Sky                |1999         |\n|Cooper, Chris (I)|Capote                     |2005         |\n|Cooper, Chris (I)|The Bourne Supremacy       |2004         |\n+-----------------+---------------------------+-------------+\nonly showing top 10 rows\n\n"
     ]
    }
   ],
   "source": [
    "from pyspark.sql.types import StructType, StructField, StringType, IntegerType\n",
    "\n",
    "# Define Schema \n",
    "customSchema = StructType([\n",
    "    StructField(\"actor_name\", StringType(), True), \n",
    "    StructField(\"movie_title\", StringType(), True), \n",
    "    StructField(\"produced_year\", IntegerType(), True)\n",
    "])\n",
    "\n",
    "# Load JSON file\n",
    "df = spark.read.schema(customSchema).json(\"dbfs:/FileStore/movies.json\")\n",
    "\n",
    "# Show schema\n",
    "df.printSchema()\n",
    "\n",
    "# Display first 10 records\n",
    "df.show(10, truncate=False)\n"
   ]
  },
  {
   "cell_type": "markdown",
   "metadata": {
    "application/vnd.databricks.v1+cell": {
     "cellMetadata": {},
     "inputWidgets": {},
     "nuid": "f5add468-e14c-4019-b41b-a4f9aa2a447a",
     "showTitle": false,
     "tableResultSettingsMap": {},
     "title": ""
    }
   },
   "source": [
    "4. Use the ‘withColumn’ command to add a new column ‘decade’. Store the result in a new dataframe and print the first 10 movies to verify the column was added. ( 2 marks)"
   ]
  },
  {
   "cell_type": "code",
   "execution_count": 0,
   "metadata": {
    "application/vnd.databricks.v1+cell": {
     "cellMetadata": {
      "byteLimit": 2048000,
      "rowLimit": 10000
     },
     "inputWidgets": {},
     "nuid": "24046ffa-1a06-41a5-b371-57f48ed32930",
     "showTitle": false,
     "tableResultSettingsMap": {},
     "title": ""
    }
   },
   "outputs": [
    {
     "output_type": "stream",
     "name": "stdout",
     "output_type": "stream",
     "text": [
      "+-----------------+---------------------------+-------------+------+\n|actor_name       |movie_title                |produced_year|decade|\n+-----------------+---------------------------+-------------+------+\n|McClure, Marc (I)|Coach Carter               |2005         |2000  |\n|McClure, Marc (I)|Superman II                |1980         |1980  |\n|McClure, Marc (I)|Apollo 13                  |1995         |1990  |\n|McClure, Marc (I)|Superman                   |1978         |1970  |\n|McClure, Marc (I)|Back to the Future         |1985         |1980  |\n|McClure, Marc (I)|Back to the Future Part III|1990         |1990  |\n|Cooper, Chris (I)|Me, Myself & Irene         |2000         |2000  |\n|Cooper, Chris (I)|October Sky                |1999         |1990  |\n|Cooper, Chris (I)|Capote                     |2005         |2000  |\n|Cooper, Chris (I)|The Bourne Supremacy       |2004         |2000  |\n+-----------------+---------------------------+-------------+------+\nonly showing top 10 rows\n\n"
     ]
    }
   ],
   "source": [
    "from pyspark.sql.functions import floor\n",
    "\n",
    "# Add decade column\n",
    "df2 = df.withColumn(\"decade\", floor(df.produced_year / 10) * 10)\n",
    "\n",
    "# Show first 10 movies\n",
    "df2.show(10, truncate=False)\n"
   ]
  },
  {
   "cell_type": "markdown",
   "metadata": {
    "application/vnd.databricks.v1+cell": {
     "cellMetadata": {},
     "inputWidgets": {},
     "nuid": "beba2725-f49b-480c-9a8e-1fb7141ab5f4",
     "showTitle": false,
     "tableResultSettingsMap": {},
     "title": ""
    }
   },
   "source": [
    "5. Use the ‘withColumnRenamed’ command to rename the first two columns to ‘actor’ and ‘title’. Store the result in a new dataframe and print the first 10 movies to verify the columns were renamed. (2 marks)"
   ]
  },
  {
   "cell_type": "code",
   "execution_count": 0,
   "metadata": {
    "application/vnd.databricks.v1+cell": {
     "cellMetadata": {
      "byteLimit": 2048000,
      "rowLimit": 10000
     },
     "inputWidgets": {},
     "nuid": "b7a4b3ff-2de3-470a-8c99-f4b379c73e81",
     "showTitle": false,
     "tableResultSettingsMap": {},
     "title": ""
    }
   },
   "outputs": [
    {
     "output_type": "stream",
     "name": "stdout",
     "output_type": "stream",
     "text": [
      "+-----------------+---------------------------+-------------+------+\n|actor            |title                      |produced_year|decade|\n+-----------------+---------------------------+-------------+------+\n|McClure, Marc (I)|Coach Carter               |2005         |2000  |\n|McClure, Marc (I)|Superman II                |1980         |1980  |\n|McClure, Marc (I)|Apollo 13                  |1995         |1990  |\n|McClure, Marc (I)|Superman                   |1978         |1970  |\n|McClure, Marc (I)|Back to the Future         |1985         |1980  |\n|McClure, Marc (I)|Back to the Future Part III|1990         |1990  |\n|Cooper, Chris (I)|Me, Myself & Irene         |2000         |2000  |\n|Cooper, Chris (I)|October Sky                |1999         |1990  |\n|Cooper, Chris (I)|Capote                     |2005         |2000  |\n|Cooper, Chris (I)|The Bourne Supremacy       |2004         |2000  |\n+-----------------+---------------------------+-------------+------+\nonly showing top 10 rows\n\n"
     ]
    }
   ],
   "source": [
    "# Rename columns actor and title\n",
    "df3 = df2.withColumnRenamed(\"actor_name\", \"actor\").withColumnRenamed(\"movie_title\", \"title\")\n",
    "\n",
    "# Show first 10 movies to verify\n",
    "df3.show(10, truncate=False)\n"
   ]
  },
  {
   "cell_type": "markdown",
   "metadata": {
    "application/vnd.databricks.v1+cell": {
     "cellMetadata": {},
     "inputWidgets": {},
     "nuid": "ea7f4e65-f278-47af-8005-89decd605b66",
     "showTitle": false,
     "tableResultSettingsMap": {},
     "title": ""
    }
   },
   "source": [
    "6. Use the DataFrame api to determine which decade has the most number of movies. ( 4 marks)"
   ]
  },
  {
   "cell_type": "code",
   "execution_count": 0,
   "metadata": {
    "application/vnd.databricks.v1+cell": {
     "cellMetadata": {
      "byteLimit": 2048000,
      "rowLimit": 10000
     },
     "inputWidgets": {},
     "nuid": "3c127ba2-ee03-4299-a2f3-428a6feb0d05",
     "showTitle": false,
     "tableResultSettingsMap": {},
     "title": ""
    }
   },
   "outputs": [
    {
     "output_type": "stream",
     "name": "stdout",
     "output_type": "stream",
     "text": [
      "+------+-----+\n|decade|count|\n+------+-----+\n|  2000|18622|\n+------+-----+\nonly showing top 1 row\n\n"
     ]
    }
   ],
   "source": [
    "# Count movies per decade \n",
    "df_decade_count = df2.groupBy(\"decade\").count().orderBy(\"count\", ascending=False)\n",
    "\n",
    "# Show the decade with the most movies\n",
    "df_decade_count.show(1)"
   ]
  },
  {
   "cell_type": "markdown",
   "metadata": {
    "application/vnd.databricks.v1+cell": {
     "cellMetadata": {},
     "inputWidgets": {},
     "nuid": "2e927d28-d94b-4421-98f5-5d383f961a79",
     "showTitle": false,
     "tableResultSettingsMap": {},
     "title": ""
    }
   },
   "source": [
    "7. Compute the number of movies each actor was in. The output should have two columns: actor, count. The output should be ordered by the count in descending order. ( 4 marks)"
   ]
  },
  {
   "cell_type": "code",
   "execution_count": 0,
   "metadata": {
    "application/vnd.databricks.v1+cell": {
     "cellMetadata": {
      "byteLimit": 2048000,
      "rowLimit": 10000
     },
     "inputWidgets": {},
     "nuid": "b2697414-9edb-4e0a-b5e4-4559117b46bc",
     "showTitle": false,
     "tableResultSettingsMap": {},
     "title": ""
    }
   },
   "outputs": [
    {
     "output_type": "stream",
     "name": "stdout",
     "output_type": "stream",
     "text": [
      "+------------------+-----+\n|actor             |count|\n+------------------+-----+\n|Tatasciore, Fred  |38   |\n|Welker, Frank     |38   |\n|Jackson, Samuel L.|32   |\n|Harnell, Jess     |31   |\n|Damon, Matt       |27   |\n|Willis, Bruce     |27   |\n|Cummings, Jim (I) |26   |\n|Hanks, Tom        |25   |\n|Lynn, Sherry (I)  |25   |\n|McGowan, Mickie   |25   |\n+------------------+-----+\nonly showing top 10 rows\n\n"
     ]
    }
   ],
   "source": [
    "# Count movies per actor\n",
    "df5 = df3.groupBy(\"actor\").count().sort(\"count\", ascending=False)\n",
    "\n",
    "# Show top 10 actors with the most movies\n",
    "df5.show(10, truncate=False)\n"
   ]
  }
 ],
 "metadata": {
  "application/vnd.databricks.v1+notebook": {
   "computePreferences": null,
   "dashboards": [],
   "environmentMetadata": {
    "base_environment": "",
    "environment_version": "1"
   },
   "inputWidgetPreferences": null,
   "language": "python",
   "notebookMetadata": {
    "pythonIndentUnit": 4
   },
   "notebookName": "CP1370 Lab 03",
   "widgets": {}
  }
 },
 "nbformat": 4,
 "nbformat_minor": 0
}
