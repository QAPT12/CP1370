{
 "cells": [
  {
   "cell_type": "markdown",
   "metadata": {
    "application/vnd.databricks.v1+cell": {
     "cellMetadata": {},
     "inputWidgets": {},
     "nuid": "5e15c864-1e66-4da0-84c6-b1275b6c93a2",
     "showTitle": false,
     "tableResultSettingsMap": {},
     "title": ""
    }
   },
   "source": [
    "Load the file into a spark dataframe. The below code performs this step. It also converts the ‘Date’ column from a string to a timestamp. (be sure to substitue the correct value for your data file)\n",
    "\n",
    "from pyspark.sql.functions import to_date,col,lit\n",
    "\n",
    "data = spark.read.csv('url for file in dbfs',header=True, inferSchema=True).withColumn('Date',to_date(col('Date'),'MM/dd/yyyy hh:mm:ss a'))"
   ]
  },
  {
   "cell_type": "code",
   "execution_count": 0,
   "metadata": {
    "application/vnd.databricks.v1+cell": {
     "cellMetadata": {},
     "inputWidgets": {},
     "nuid": "af0f87ac-c62e-4690-8983-c6301c580aab",
     "showTitle": false,
     "tableResultSettingsMap": {},
     "title": ""
    }
   },
   "outputs": [],
   "source": [
    "from pyspark.sql.functions import to_date, col, date_format, lower\n",
    "data = spark.read.csv('dbfs:/FileStore/tables/crimes_2017.csv', header=True, inferSchema=True).withColumn('Date', to_date(col('Date'), 'MM/dd/yyyy hh:mm:ss a'))\n"
   ]
  },
  {
   "cell_type": "markdown",
   "metadata": {
    "application/vnd.databricks.v1+cell": {
     "cellMetadata": {},
     "inputWidgets": {},
     "nuid": "cc6f28ac-8161-4175-b449-5a74a16cd441",
     "showTitle": false,
     "tableResultSettingsMap": {},
     "title": ""
    }
   },
   "source": [
    "Lab exercise part 1. (2 marks ) Once you have the dataframe loaded, display the first 5 rows. Including the code which loaded the dataframe which transformations are being performed and which actions are being performed? "
   ]
  },
  {
   "cell_type": "code",
   "execution_count": 0,
   "metadata": {
    "application/vnd.databricks.v1+cell": {
     "cellMetadata": {},
     "inputWidgets": {},
     "nuid": "76a976c0-4cbc-4308-b0b1-bd8937d625c6",
     "showTitle": false,
     "tableResultSettingsMap": {},
     "title": ""
    }
   },
   "outputs": [],
   "source": [
    "data.show(5)\n",
    "# spark.read.csv is a transformation which returns a dataframe from the csv file\n",
    "# withcolumn is an action which creates a column 'date' from the date column in the csv using the MM/dd/yyyy hh:mm:ss a format"
   ]
  },
  {
   "cell_type": "markdown",
   "metadata": {
    "application/vnd.databricks.v1+cell": {
     "cellMetadata": {},
     "inputWidgets": {},
     "nuid": "d8dbd37e-7481-4ddd-857a-5c53b439db61",
     "showTitle": false,
     "tableResultSettingsMap": {},
     "title": ""
    }
   },
   "source": [
    "Lab exercise part 2 (4 marks). Output the top 5 dates for reported crimes and the number of crimes on each day. Order in descending order by the number of crimes reported. "
   ]
  },
  {
   "cell_type": "code",
   "execution_count": 0,
   "metadata": {
    "application/vnd.databricks.v1+cell": {
     "cellMetadata": {},
     "inputWidgets": {},
     "nuid": "1287ab7f-04fa-4446-b0fb-9a11879d615e",
     "showTitle": false,
     "tableResultSettingsMap": {},
     "title": ""
    }
   },
   "outputs": [],
   "source": [
    "top_5 = data.groupBy('Date').count().sort('count', ascending=False)\n",
    "top_5.show(5)"
   ]
  },
  {
   "cell_type": "markdown",
   "metadata": {
    "application/vnd.databricks.v1+cell": {
     "cellMetadata": {},
     "inputWidgets": {},
     "nuid": "adc66fb7-6730-42c0-98ff-8623864523c7",
     "showTitle": false,
     "tableResultSettingsMap": {},
     "title": ""
    }
   },
   "source": [
    "Lab Exercise part 3(4 marks) Output the top 3 crimes reported and the number of times each was reported, for the day with the most number of reported crimes from part3."
   ]
  },
  {
   "cell_type": "code",
   "execution_count": 0,
   "metadata": {
    "application/vnd.databricks.v1+cell": {
     "cellMetadata": {},
     "inputWidgets": {},
     "nuid": "8ed2643b-4cc1-4b12-885e-77b76f6d0c9f",
     "showTitle": false,
     "tableResultSettingsMap": {},
     "title": ""
    }
   },
   "outputs": [],
   "source": [
    "top_3_crimes = (data.filter(col(\"Date\") == top5Dates.first()[\"Date\"])\n",
    ".groupBy(\"Primary Type\")\n",
    ".count()\n",
    ".sort('count', ascending=False))\n",
    "top_3_crimes.show(3)"
   ]
  },
  {
   "cell_type": "markdown",
   "metadata": {
    "application/vnd.databricks.v1+cell": {
     "cellMetadata": {},
     "inputWidgets": {},
     "nuid": "f37b2c0c-b076-497c-9f7c-198aa3387c52",
     "showTitle": false,
     "tableResultSettingsMap": {},
     "title": ""
    }
   },
   "source": [
    "Lab exercise part 4 (3 marks). Which month of the year has the most number of crimes. Output the month and the number of crimes."
   ]
  },
  {
   "cell_type": "code",
   "execution_count": 0,
   "metadata": {
    "application/vnd.databricks.v1+cell": {
     "cellMetadata": {},
     "inputWidgets": {},
     "nuid": "bb232445-4fd7-4c58-b72a-eeb9f34e426f",
     "showTitle": false,
     "tableResultSettingsMap": {},
     "title": ""
    }
   },
   "outputs": [],
   "source": [
    "highest_crime_month = (\n",
    "    data.withColumn(\"Month\", date_format(col(\"date\"), \"MMMM\"))\n",
    "                            .groupBy(\"Month\")\n",
    "                            .count()\n",
    "                            .sort('count', ascending=False)\n",
    "                            )\n",
    "highest_crime_month.show(1)"
   ]
  },
  {
   "cell_type": "markdown",
   "metadata": {
    "application/vnd.databricks.v1+cell": {
     "cellMetadata": {},
     "inputWidgets": {},
     "nuid": "737a50d1-7486-40a6-bd9d-d335151fd471",
     "showTitle": false,
     "tableResultSettingsMap": {},
     "title": ""
    }
   },
   "source": [
    "Lab exercise part 5 ( 5 marks). Filter the dataframe to create a new dataframe which only contains crimes where the word ‘gun’ appears in the ‘Description’ column. (be sure to ignore the case when comparing the string for ‘gun’). What percentage of crimes involve a gun? Output all the unique ‘Description’ values which include ‘gun’."
   ]
  },
  {
   "cell_type": "code",
   "execution_count": 0,
   "metadata": {
    "application/vnd.databricks.v1+cell": {
     "cellMetadata": {},
     "inputWidgets": {},
     "nuid": "aecb55fa-4e7f-4733-a1a8-c9cc06739b32",
     "showTitle": false,
     "tableResultSettingsMap": {},
     "title": ""
    }
   },
   "outputs": [],
   "source": [
    "gun_crimes = data.filter(lower(col(\"Description\")).contains(\"gun\"))\n",
    "gun_percent = (onlyCrimesWithTheWordGun.count() / data.count())\n",
    "print(str(round(percentageOfGunCrimes * 100, 2)) + \"% of crimes involve a gun\")\n",
    "gun_crimes.select(\"Description\").distinct().show(truncate = False)"
   ]
  },
  {
   "cell_type": "markdown",
   "metadata": {
    "application/vnd.databricks.v1+cell": {
     "cellMetadata": {},
     "inputWidgets": {},
     "nuid": "0b90c3c5-87cc-4af0-a3bd-1135259dc229",
     "showTitle": false,
     "tableResultSettingsMap": {},
     "title": ""
    }
   },
   "source": []
  }
 ],
 "metadata": {
  "application/vnd.databricks.v1+notebook": {
   "computePreferences": null,
   "dashboards": [],
   "environmentMetadata": {
    "base_environment": "",
    "environment_version": "1"
   },
   "inputWidgetPreferences": null,
   "language": "python",
   "notebookMetadata": {
    "pythonIndentUnit": 4
   },
   "notebookName": "CP1370 Lab 04",
   "widgets": {}
  }
 },
 "nbformat": 4,
 "nbformat_minor": 0
}
