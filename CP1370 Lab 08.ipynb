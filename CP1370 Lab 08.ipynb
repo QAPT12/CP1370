{
 "cells": [
  {
   "cell_type": "code",
   "execution_count": 0,
   "metadata": {
    "application/vnd.databricks.v1+cell": {
     "cellMetadata": {
      "byteLimit": 2048000,
      "rowLimit": 10000
     },
     "inputWidgets": {},
     "nuid": "1ee6fc02-3a45-45fe-a48e-90509e9ca9f5",
     "showTitle": false,
     "tableResultSettingsMap": {},
     "title": ""
    }
   },
   "outputs": [],
   "source": [
    "from pyspark.sql.functions import col, avg, to_date, round, window, desc, rank, max, sum\n",
    "from pyspark.sql.types import StructField, StructType, StringType, DoubleType\n",
    "from pyspark.sql.window import Window"
   ]
  },
  {
   "cell_type": "markdown",
   "metadata": {
    "application/vnd.databricks.v1+cell": {
     "cellMetadata": {},
     "inputWidgets": {},
     "nuid": "29bd05b0-c69d-4de9-a30b-094b212eb2e6",
     "showTitle": false,
     "tableResultSettingsMap": {},
     "title": ""
    }
   },
   "source": [
    "1. (5 marks) The file mpg.csv contains data about various automobiles. Load\n",
    "this file into a dataframe and perform the following:\n",
    "- Filter the dataframe to only include 'ford' and 'dodge' vehicles\n",
    "- Perform a Rollup on the manufacturer and number of cylinders columns,\n",
    "which displays the total vehicles from that manufacturer with the given\n",
    "number of cylinders. Be sure to order the rows so the null values are\n",
    "contained last.\n",
    "- Perform the same steps using the Cube function instead of Rollup"
   ]
  },
  {
   "cell_type": "code",
   "execution_count": 0,
   "metadata": {
    "application/vnd.databricks.v1+cell": {
     "cellMetadata": {
      "byteLimit": 2048000,
      "rowLimit": 10000
     },
     "inputWidgets": {},
     "nuid": "539c0e27-ceee-4f68-97c8-794c5f69e490",
     "showTitle": false,
     "tableResultSettingsMap": {},
     "title": ""
    }
   },
   "outputs": [
    {
     "output_type": "stream",
     "name": "stdout",
     "output_type": "stream",
     "text": [
      "+------------+----+--------+\n|manufacturer| cyl|count(1)|\n+------------+----+--------+\n|        ford|   8|      15|\n|       dodge|   8|      21|\n|        ford|   6|      10|\n|       dodge|   6|      15|\n|       dodge|   4|       1|\n|        ford|null|      25|\n|       dodge|null|      37|\n|        null|null|      62|\n+------------+----+--------+\n\n+------------+----+--------+\n|manufacturer| cyl|count(1)|\n+------------+----+--------+\n|        ford|   8|      15|\n|       dodge|   8|      21|\n|        null|   8|      36|\n|        ford|   6|      10|\n|       dodge|   6|      15|\n|        null|   6|      25|\n|       dodge|   4|       1|\n|        null|   4|       1|\n|        ford|null|      25|\n|       dodge|null|      37|\n|        null|null|      62|\n+------------+----+--------+\n\n"
     ]
    }
   ],
   "source": [
    "mpg = spark.read \\\n",
    "    .format(\"csv\") \\\n",
    "    .option(\"header\", \"true\") \\\n",
    "    .option(\"inferSchema\", \"true\") \\\n",
    "    .load(\"dbfs:/FileStore/mpg.csv\")\n",
    "\n",
    "filtered_mpg = mpg.filter((col(\"manufacturer\") == \"ford\") | (col(\"manufacturer\") == \"dodge\"))\n",
    "\n",
    "rollup_result = filtered_mpg.rollup(\"manufacturer\", \"cyl\") \\\n",
    "    .agg(count(\"*\")) \\\n",
    "    .orderBy(\"cyl\", \"manufacturer\", ascending=False)\n",
    "rollup_result.show()\n",
    "\n",
    "cube_result = filtered_mpg.cube(\"manufacturer\", \"cyl\") \\\n",
    "    .agg(count(\"*\")) \\\n",
    "    .orderBy(\"cyl\", \"manufacturer\", ascending=False)\n",
    "cube_result.show()"
   ]
  },
  {
   "cell_type": "markdown",
   "metadata": {
    "application/vnd.databricks.v1+cell": {
     "cellMetadata": {},
     "inputWidgets": {},
     "nuid": "c4163cf8-f258-4401-b7d5-c84bf5e1b116",
     "showTitle": false,
     "tableResultSettingsMap": {},
     "title": ""
    }
   },
   "source": [
    "2. (5 marks) #The file aapl-2017.csv contains information about daily apple\n",
    "stock prices. Load this file into a dataframe and perform the following:\n",
    "- Calculate the monthy average closing price using a window function inside\n",
    "the groupBy transformation. For the window function, use a sliding window\n",
    "which slides by 1 week at a time. Be sure to order the results in ascending\n",
    "order by the start date of the window\n",
    "- Output the start time, end time for the window as well as the monthly\n",
    "average"
   ]
  },
  {
   "cell_type": "code",
   "execution_count": 0,
   "metadata": {
    "application/vnd.databricks.v1+cell": {
     "cellMetadata": {
      "byteLimit": 2048000,
      "rowLimit": 10000
     },
     "inputWidgets": {},
     "nuid": "a3e7e049-dd21-428b-baba-2f50c3b5cd98",
     "showTitle": false,
     "tableResultSettingsMap": {},
     "title": ""
    }
   },
   "outputs": [
    {
     "output_type": "stream",
     "name": "stdout",
     "output_type": "stream",
     "text": [
      "+------------------------------------------+-----------+\n|window                                    |monthly avg|\n+------------------------------------------+-----------+\n|{2016-12-08 00:00:00, 2017-01-05 00:00:00}|116.08     |\n|{2016-12-15 00:00:00, 2017-01-12 00:00:00}|117.79     |\n|{2016-12-22 00:00:00, 2017-01-19 00:00:00}|118.44     |\n|{2016-12-29 00:00:00, 2017-01-26 00:00:00}|119.03     |\n|{2017-01-05 00:00:00, 2017-02-02 00:00:00}|120.42     |\n|{2017-01-12 00:00:00, 2017-02-09 00:00:00}|123.53     |\n|{2017-01-19 00:00:00, 2017-02-16 00:00:00}|126.86     |\n|{2017-01-26 00:00:00, 2017-02-23 00:00:00}|130.54     |\n|{2017-02-02 00:00:00, 2017-03-02 00:00:00}|134.3      |\n|{2017-02-09 00:00:00, 2017-03-09 00:00:00}|136.67     |\n|{2017-02-16 00:00:00, 2017-03-16 00:00:00}|138.15     |\n|{2017-02-23 00:00:00, 2017-03-23 00:00:00}|139.17     |\n|{2017-03-02 00:00:00, 2017-03-30 00:00:00}|140.34     |\n|{2017-03-09 00:00:00, 2017-04-06 00:00:00}|141.52     |\n|{2017-03-16 00:00:00, 2017-04-13 00:00:00}|142.37     |\n|{2017-03-23 00:00:00, 2017-04-20 00:00:00}|142.57     |\n|{2017-03-30 00:00:00, 2017-04-27 00:00:00}|142.89     |\n|{2017-04-06 00:00:00, 2017-05-04 00:00:00}|143.34     |\n|{2017-04-13 00:00:00, 2017-05-11 00:00:00}|145.56     |\n|{2017-04-20 00:00:00, 2017-05-18 00:00:00}|148.62     |\n+------------------------------------------+-----------+\nonly showing top 20 rows\n\n"
     ]
    }
   ],
   "source": [
    "aapl = spark.read \\\n",
    "    .format(\"csv\") \\\n",
    "    .option(\"header\", \"true\") \\\n",
    "    .option(\"inferSchema\", \"true\") \\\n",
    "    .load(\"dbfs:/FileStore/aapl_2017.csv\") \\\n",
    "    .withColumn(\"date\", to_date(col(\"date\"), \"yyyy-MM-dd\"))\n",
    "     \n",
    "aapl.groupBy(window(col(\"date\"), \"4 week\", \"1 week\")) \\\n",
    "    .agg(round(avg(col(\"close\")), 2).alias(\"monthly avg\")) \\\n",
    "    .orderBy(col(\"window.start\")) \\\n",
    "    .show(truncate=False)"
   ]
  },
  {
   "cell_type": "markdown",
   "metadata": {
    "application/vnd.databricks.v1+cell": {
     "cellMetadata": {},
     "inputWidgets": {},
     "nuid": "d995c244-7fa4-4138-a7ec-ff1e3af6b22c",
     "showTitle": false,
     "tableResultSettingsMap": {},
     "title": ""
    }
   },
   "source": [
    "Exercises 3-5 Window Functions ( Use the following data )\n",
    "This code loads bicycle sales data for 1 week from 4 local bike shops:"
   ]
  },
  {
   "cell_type": "code",
   "execution_count": 0,
   "metadata": {
    "application/vnd.databricks.v1+cell": {
     "cellMetadata": {
      "byteLimit": 2048000,
      "rowLimit": 10000
     },
     "inputWidgets": {},
     "nuid": "5ce8aaec-ac7f-4d62-bfc9-a961597bff93",
     "showTitle": false,
     "tableResultSettingsMap": {},
     "title": ""
    }
   },
   "outputs": [],
   "source": [
    "data = [\n",
    "(\"2025-01-01\", \"Eric's Bikes\", \"Norco Storm\", 4500.75),\n",
    "(\"2025-01-01\", \"Eric's Bikes\", \"Cannondale Optimo\", 5200.50),\n",
    "(\"2025-01-01\", \"CNA Bikes\", \"Specialized S-Works\", 4800.25),\n",
    "(\"2025-01-01\", \"CNA Bikes\", \"Trek Madone\", 4600.10),\n",
    "(\"2025-01-01\", \"Canary Cycles\", \"Norco Storm\", 5100.95),\n",
    "(\"2025-01-01\", \"Canary Cycles\", \"Cannondale Optimo\", 4750.60),\n",
    "(\"2025-01-02\", \"Eric's Bikes\", \"Norco Storm\", 4450.00),\n",
    "(\"2025-01-02\", \"Eric's Bikes\", \"Specialized S-Works\", 5350.30),\n",
    "(\"2025-01-02\", \"CNA Bikes\", \"Trek Madone\", 4300.75),\n",
    "(\"2025-01-02\", \"CNA Bikes\", \"Cannondale Optimo\", 4900.20),\n",
    "(\"2025-01-02\", \"Canary Cycles\", \"Norco Storm\", 5500.00),\n",
    "(\"2025-01-02\", \"Canary Cycles\", \"Specialized S-Works\", 5600.40),\n",
    "(\"2025-01-03\", \"Eric's Bikes\", \"Cannondale Optimo\", 5100.30),\n",
    "(\"2025-01-03\", \"Eric's Bikes\", \"Trek Madone\", 4500.90),\n",
    "(\"2025-01-03\", \"CNA Bikes\", \"Norco Storm\", 5200.75),\n",
    "(\"2025-01-03\", \"CNA Bikes\", \"Specialized S-Works\", 5450.80),\n",
    "(\"2025-01-03\", \"Canary Cycles\", \"Norco Storm\", 5700.40),\n",
    "(\"2025-01-03\", \"Canary Cycles\", \"Trek Madone\", 4600.50),\n",
    "(\"2025-01-04\", \"Eric's Bikes\", \"Norco Storm\", 4800.60),\n",
    "(\"2025-01-04\", \"Eric's Bikes\", \"Specialized S-Works\", 5000.80),\n",
    "(\"2025-01-04\", \"CNA Bikes\", \"Trek Madone\", 4800.25),\n",
    "(\"2025-01-04\", \"CNA Bikes\", \"Cannondale Optimo\", 4700.10),\n",
    "(\"2025-01-04\", \"Canary Cycles\", \"Norco Storm\", 5400.85),\n",
    "(\"2025-01-04\", \"Canary Cycles\", \"Specialized S-Works\", 5100.60),\n",
    "(\"2025-01-05\", \"Eric's Bikes\", \"Cannondale Optimo\", 5300.40),\n",
    "(\"2025-01-05\", \"Eric's Bikes\", \"Trek Madone\", 4500.35),\n",
    "(\"2025-01-05\", \"CNA Bikes\", \"Norco Storm\", 4700.50),\n",
    "(\"2025-01-05\", \"CNA Bikes\", \"Specialized S-Works\", 5200.00),\n",
    "(\"2025-01-05\", \"Canary Cycles\", \"Norco Storm\", 5500.90),\n",
    "(\"2025-01-05\", \"Canary Cycles\", \"Cannondale Optimo\", 4950.10)\n",
    "]\n",
    "# Define schema\n",
    "schema = StructType([\n",
    "StructField(\"date\", StringType(), True),\n",
    "StructField(\"store\", StringType(), True),\n",
    "StructField(\"product\", StringType(), True),\n",
    "StructField(\"sales_amount\", DoubleType(), True)\n",
    "])\n",
    "# Create DataFrame\n",
    "df = spark.createDataFrame(data, schema)"
   ]
  },
  {
   "cell_type": "markdown",
   "metadata": {
    "application/vnd.databricks.v1+cell": {
     "cellMetadata": {},
     "inputWidgets": {},
     "nuid": "754533d3-d042-47c4-840b-ce76b33afb36",
     "showTitle": false,
     "tableResultSettingsMap": {},
     "title": ""
    }
   },
   "source": [
    "3. (5 marks) Rank the sales within each store based on the sales amount\n",
    "column\n",
    "- create a window specification to partition the data by store and order by\n",
    "sales_amount in descending order.\n",
    "- use the rank() function to assign ranks to each product and add this column\n",
    "to the dataFrame"
   ]
  },
  {
   "cell_type": "code",
   "execution_count": 0,
   "metadata": {
    "application/vnd.databricks.v1+cell": {
     "cellMetadata": {
      "byteLimit": 2048000,
      "rowLimit": 10000
     },
     "inputWidgets": {},
     "nuid": "830bfccd-dfb9-4c36-8d72-35f1f22ef9d2",
     "showTitle": false,
     "tableResultSettingsMap": {},
     "title": ""
    }
   },
   "outputs": [
    {
     "output_type": "stream",
     "name": "stdout",
     "output_type": "stream",
     "text": [
      "+----------+-------------+-------------------+------------+----+\n|      date|        store|            product|sales_amount|rank|\n+----------+-------------+-------------------+------------+----+\n|2025-01-03|    CNA Bikes|Specialized S-Works|      5450.8|   1|\n|2025-01-03|    CNA Bikes|        Norco Storm|     5200.75|   2|\n|2025-01-05|    CNA Bikes|Specialized S-Works|      5200.0|   3|\n|2025-01-02|    CNA Bikes|  Cannondale Optimo|      4900.2|   4|\n|2025-01-01|    CNA Bikes|Specialized S-Works|     4800.25|   5|\n|2025-01-04|    CNA Bikes|        Trek Madone|     4800.25|   5|\n|2025-01-05|    CNA Bikes|        Norco Storm|      4700.5|   7|\n|2025-01-04|    CNA Bikes|  Cannondale Optimo|      4700.1|   8|\n|2025-01-01|    CNA Bikes|        Trek Madone|      4600.1|   9|\n|2025-01-02|    CNA Bikes|        Trek Madone|     4300.75|  10|\n|2025-01-03|Canary Cycles|        Norco Storm|      5700.4|   1|\n|2025-01-02|Canary Cycles|Specialized S-Works|      5600.4|   2|\n|2025-01-05|Canary Cycles|        Norco Storm|      5500.9|   3|\n|2025-01-02|Canary Cycles|        Norco Storm|      5500.0|   4|\n|2025-01-04|Canary Cycles|        Norco Storm|     5400.85|   5|\n|2025-01-01|Canary Cycles|        Norco Storm|     5100.95|   6|\n|2025-01-04|Canary Cycles|Specialized S-Works|      5100.6|   7|\n|2025-01-05|Canary Cycles|  Cannondale Optimo|      4950.1|   8|\n|2025-01-01|Canary Cycles|  Cannondale Optimo|      4750.6|   9|\n|2025-01-03|Canary Cycles|        Trek Madone|      4600.5|  10|\n+----------+-------------+-------------------+------------+----+\nonly showing top 20 rows\n\n"
     ]
    }
   ],
   "source": [
    "rank_window = Window.partitionBy(\"store\").orderBy(col(\"sales_amount\").desc())\n",
    "\n",
    "ranked_df = df.withColumn(\"rank\", rank().over(rank_window))\n",
    "ranked_df.show()"
   ]
  },
  {
   "cell_type": "markdown",
   "metadata": {
    "application/vnd.databricks.v1+cell": {
     "cellMetadata": {},
     "inputWidgets": {},
     "nuid": "7ff86415-16ba-4478-b1f5-d66955270703",
     "showTitle": false,
     "tableResultSettingsMap": {},
     "title": ""
    }
   },
   "source": [
    "4. (5 marks) Calculate the running total of Sales amounts per store\n",
    "- Create a window specification to partition the data by store and order by\n",
    "date in ascending order. Make sure you are including rows from the start of\n",
    "the window up to the current row ( use the rowsBetween method )\n",
    "- Use the sum() function as a window function to calculate the running total\n",
    "and add this column to the dataFrame"
   ]
  },
  {
   "cell_type": "code",
   "execution_count": 0,
   "metadata": {
    "application/vnd.databricks.v1+cell": {
     "cellMetadata": {
      "byteLimit": 2048000,
      "rowLimit": 10000
     },
     "inputWidgets": {},
     "nuid": "df7dc073-e9f6-4f23-8083-fb22093a984a",
     "showTitle": false,
     "tableResultSettingsMap": {},
     "title": ""
    }
   },
   "outputs": [
    {
     "output_type": "stream",
     "name": "stdout",
     "output_type": "stream",
     "text": [
      "+----------+-------------+-------------------+------------+------------------+\n|      date|        store|            product|sales_amount|     running_total|\n+----------+-------------+-------------------+------------+------------------+\n|2025-01-01|    CNA Bikes|Specialized S-Works|     4800.25|           4800.25|\n|2025-01-01|    CNA Bikes|        Trek Madone|      4600.1|           9400.35|\n|2025-01-02|    CNA Bikes|        Trek Madone|     4300.75|           13701.1|\n|2025-01-02|    CNA Bikes|  Cannondale Optimo|      4900.2|           18601.3|\n|2025-01-03|    CNA Bikes|        Norco Storm|     5200.75|          23802.05|\n|2025-01-03|    CNA Bikes|Specialized S-Works|      5450.8|          29252.85|\n|2025-01-04|    CNA Bikes|        Trek Madone|     4800.25|           34053.1|\n|2025-01-04|    CNA Bikes|  Cannondale Optimo|      4700.1|           38753.2|\n|2025-01-05|    CNA Bikes|        Norco Storm|      4700.5|           43453.7|\n|2025-01-05|    CNA Bikes|Specialized S-Works|      5200.0|           48653.7|\n|2025-01-01|Canary Cycles|        Norco Storm|     5100.95|           5100.95|\n|2025-01-01|Canary Cycles|  Cannondale Optimo|      4750.6|           9851.55|\n|2025-01-02|Canary Cycles|        Norco Storm|      5500.0|          15351.55|\n|2025-01-02|Canary Cycles|Specialized S-Works|      5600.4|20951.949999999997|\n|2025-01-03|Canary Cycles|        Norco Storm|      5700.4|          26652.35|\n|2025-01-03|Canary Cycles|        Trek Madone|      4600.5|          31252.85|\n|2025-01-04|Canary Cycles|        Norco Storm|     5400.85|           36653.7|\n|2025-01-04|Canary Cycles|Specialized S-Works|      5100.6|41754.299999999996|\n|2025-01-05|Canary Cycles|        Norco Storm|      5500.9|           47255.2|\n|2025-01-05|Canary Cycles|  Cannondale Optimo|      4950.1|52205.299999999996|\n+----------+-------------+-------------------+------------+------------------+\nonly showing top 20 rows\n\n"
     ]
    }
   ],
   "source": [
    "running_total_window = Window.partitionBy(\"store\").orderBy(\"date\").rowsBetween(Window.unboundedPreceding, Window.currentRow)\n",
    "\n",
    "df_with_running_total = df.withColumn(\"running_total\", sum(\"sales_amount\").over(running_total_window))\n",
    "df_with_running_total.show()"
   ]
  },
  {
   "cell_type": "markdown",
   "metadata": {
    "application/vnd.databricks.v1+cell": {
     "cellMetadata": {},
     "inputWidgets": {},
     "nuid": "8925412b-2490-4363-b5c9-1adfa2fcf6cf",
     "showTitle": false,
     "tableResultSettingsMap": {},
     "title": ""
    }
   },
   "source": [
    "5. (5 marks) Calculate the average sales per store for the last 3 days\n",
    "- Create a window specification to partition the data by store and order by\n",
    "date in ascending order. Make sure you are including rows from 2 days\n",
    "before the current date up to the current date ( use the rowsBetween\n",
    "method).\n",
    "- Use the avg function to compute the average from the sales amount column\n",
    "and add this column to the dataFrame"
   ]
  },
  {
   "cell_type": "code",
   "execution_count": 0,
   "metadata": {
    "application/vnd.databricks.v1+cell": {
     "cellMetadata": {
      "byteLimit": 2048000,
      "rowLimit": 10000
     },
     "inputWidgets": {},
     "nuid": "9b3e4442-c6d7-4884-bc55-9cdedc95ecfb",
     "showTitle": false,
     "tableResultSettingsMap": {},
     "title": ""
    }
   },
   "outputs": [
    {
     "output_type": "stream",
     "name": "stdout",
     "output_type": "stream",
     "text": [
      "+----------+-------------+-------------------+------------+-----------------+\n|      date|        store|            product|sales_amount|        3_day_avg|\n+----------+-------------+-------------------+------------+-----------------+\n|2025-01-01|    CNA Bikes|Specialized S-Works|     4800.25|          4800.25|\n|2025-01-01|    CNA Bikes|        Trek Madone|      4600.1|         4700.175|\n|2025-01-02|    CNA Bikes|        Trek Madone|     4300.75|4567.033333333334|\n|2025-01-02|    CNA Bikes|  Cannondale Optimo|      4900.2|4600.349999999999|\n|2025-01-03|    CNA Bikes|        Norco Storm|     5200.75|4800.566666666667|\n|2025-01-03|    CNA Bikes|Specialized S-Works|      5450.8|5183.916666666667|\n|2025-01-04|    CNA Bikes|        Trek Madone|     4800.25|5150.599999999999|\n|2025-01-04|    CNA Bikes|  Cannondale Optimo|      4700.1|4983.716666666666|\n|2025-01-05|    CNA Bikes|        Norco Storm|      4700.5|4733.616666666667|\n|2025-01-05|    CNA Bikes|Specialized S-Works|      5200.0|4866.866666666667|\n|2025-01-01|Canary Cycles|        Norco Storm|     5100.95|          5100.95|\n|2025-01-01|Canary Cycles|  Cannondale Optimo|      4750.6|         4925.775|\n|2025-01-02|Canary Cycles|        Norco Storm|      5500.0|5117.183333333333|\n|2025-01-02|Canary Cycles|Specialized S-Works|      5600.4|5283.666666666667|\n|2025-01-03|Canary Cycles|        Norco Storm|      5700.4|5600.266666666666|\n|2025-01-03|Canary Cycles|        Trek Madone|      4600.5|5300.433333333333|\n|2025-01-04|Canary Cycles|        Norco Storm|     5400.85|5233.916666666667|\n|2025-01-04|Canary Cycles|Specialized S-Works|      5100.6|5033.983333333334|\n|2025-01-05|Canary Cycles|        Norco Storm|      5500.9|5334.116666666667|\n|2025-01-05|Canary Cycles|  Cannondale Optimo|      4950.1|5183.866666666667|\n+----------+-------------+-------------------+------------+-----------------+\nonly showing top 20 rows\n\n"
     ]
    }
   ],
   "source": [
    "moving_avg_window = Window.partitionBy(\"store\").orderBy(\"date\").rowsBetween(-2, 0)\n",
    "\n",
    "df_with_avg = df.withColumn(\"3_day_avg\", avg(\"sales_amount\").over(moving_avg_window))\n",
    "df_with_avg.show()"
   ]
  },
  {
   "cell_type": "markdown",
   "metadata": {
    "application/vnd.databricks.v1+cell": {
     "cellMetadata": {},
     "inputWidgets": {},
     "nuid": "23785558-2771-4152-bad7-ca82a3ff0e3a",
     "showTitle": false,
     "tableResultSettingsMap": {},
     "title": ""
    }
   },
   "source": []
  }
 ],
 "metadata": {
  "application/vnd.databricks.v1+notebook": {
   "computePreferences": null,
   "dashboards": [],
   "environmentMetadata": {
    "base_environment": "",
    "environment_version": "1"
   },
   "inputWidgetPreferences": null,
   "language": "python",
   "notebookMetadata": {
    "pythonIndentUnit": 4
   },
   "notebookName": "CP1370 Lab 08",
   "widgets": {}
  }
 },
 "nbformat": 4,
 "nbformat_minor": 0
}
